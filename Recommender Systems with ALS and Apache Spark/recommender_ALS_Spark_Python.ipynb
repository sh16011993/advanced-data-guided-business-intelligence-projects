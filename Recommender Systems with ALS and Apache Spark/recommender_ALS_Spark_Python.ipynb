{
 "cells": [
  {
   "cell_type": "markdown",
   "metadata": {},
   "source": [
    "# Music Recommender System using ALS Algorithm with Apache Spark and Python\n",
    "+ **Estimated Execution Time (whole script): 2 minutes**\n",
    "+ **Estimated Time (to complete the project): 8 hours**\n",
    "\n",
    "## Description\n",
    "\n",
    "For this project, you are to create a recommender system that will recommend new musical artists to a user based on their listening history. Suggesting different songs or musical artists to a user is important to many music streaming services, such as Pandora and Spotify. In addition, this type of recommender system could also be used as a means of suggesting TV shows or movies to a user (e.g., Netflix). \n",
    "\n",
    "To create this system you will be using Spark and the collaborative filtering technique. The instructions for completing this project will be laid out entirely in this file. You will have to implement any missing code as well as answer any questions.\n",
    "\n",
    "**Submission Instructions:** \n",
    "* Add all of your updates to this Jupyter Notebook file and do NOT clear any of the output you get from running your code.\n",
    "* Upload this file and the genererated HTML onto Moodle as a single zip folder called with your user name.\n",
    "\n",
    "## Datasets\n",
    "\n",
    "You will be using some publicly available song data from audioscrobbler, which can be found [here](http://www-etud.iro.umontreal.ca/~bergstrj/audioscrobbler_data.html). However, we modified the original data files so that the code will run in a reasonable time on a single machine. The reduced data files have been suffixed with `_small.txt` and contains only the information relevant to the top 50 most prolific users (highest artist play counts).\n",
    "\n",
    "The original data file `user_artist_data.txt` contained about 141,000 unique users, and 1.6 million unique artists. About 24.2 million users’ plays of artists are recorded, along with their count.\n",
    "\n",
    "Note that when plays are scribbled, the client application submits the name of the artist being played. This name could be misspelled or nonstandard, and this may only be detected later. For example, \"The Smiths\", \"Smiths, The\", and \"the smiths\" may appear as distinct artist IDs in the data set, even though they clearly refer to the same artist. So, the data set includes `artist_alias.txt`, which maps artist IDs that are known misspellings or variants to the canonical ID of that artist.\n",
    "\n",
    "The `artist_data.txt` file then provides a map from the canonical artist ID to the name of the artist."
   ]
  },
  {
   "cell_type": "code",
   "execution_count": 1,
   "metadata": {
    "collapsed": true
   },
   "outputs": [],
   "source": [
    "## My Name: Shashank Shekhar [Unity Id: sshekha4]\n",
    "## Discussed With: Rahul Aettapu [Unity Id: raettap]\n",
    "## Link Referenced: https://github.com/databricks/spark-training/blob/master/machine-learning/python/solution/MovieLensALS.py"
   ]
  },
  {
   "cell_type": "code",
   "execution_count": 2,
   "metadata": {
    "collapsed": true
   },
   "outputs": [],
   "source": [
    "# Import libraries\n",
    "import findspark\n",
    "findspark.init()\n",
    "\n",
    "from pyspark.mllib.recommendation import *\n",
    "import random\n",
    "from operator import *\n",
    "from collections import defaultdict\n",
    "###############################################\n",
    "from pyspark import SparkContext\n",
    "from pyspark.streaming import StreamingContext"
   ]
  },
  {
   "cell_type": "code",
   "execution_count": 3,
   "metadata": {
    "collapsed": true
   },
   "outputs": [],
   "source": [
    "# Initialize Spark Context\n",
    "sc = SparkContext(master = \"local\", appName = \"Sentiment Analysis\")"
   ]
  },
  {
   "cell_type": "markdown",
   "metadata": {},
   "source": [
    "## Loading data\n",
    "\n",
    "Load the three datasets into RDDs and name them `artistData`, `artistAlias`, and `userArtistData`. View the README, or the files themselves, to see how this data is formated. Some of the files have tab delimeters while some have space delimiters. Make sure that your `userArtistData` RDD contains only the canonical artist IDs."
   ]
  },
  {
   "cell_type": "code",
   "execution_count": 4,
   "metadata": {
    "collapsed": true
   },
   "outputs": [],
   "source": [
    "# Import test files from location into RDD variables\n",
    "artist_alias_data = sc.textFile(\"artist_alias_small.txt\")\n",
    "artist_data = sc.textFile(\"artist_data_small.txt\")\n",
    "user_artist_data = sc.textFile(\"user_artist_data_small.txt\")"
   ]
  },
  {
   "cell_type": "markdown",
   "metadata": {},
   "source": [
    "## Data Exploration\n",
    "\n",
    "In the blank below, write some code that with find the users' total play counts. Find the three users with the highest number of total play counts (sum of all counters) and print the user ID, the total play count, and the mean play count (average number of times a user played an artist). Your output should look as follows:\n",
    "```\n",
    "User 1059637 has a total play count of 674412 and a mean play count of 1878.\n",
    "User 2064012 has a total play count of 548427 and a mean play count of 9455.\n",
    "User 2069337 has a total play count of 393515 and a mean play count of 1519.\n",
    "```\n",
    "\n"
   ]
  },
  {
   "cell_type": "code",
   "execution_count": 5,
   "metadata": {},
   "outputs": [
    {
     "name": "stdout",
     "output_type": "stream",
     "text": [
      "User 1059637 has a total play count of 674412 and a mean play count of 1878.\n",
      "User 2064012 has a total play count of 548427 and a mean play count of 9455.\n",
      "User 2069337 has a total play count of 393515 and a mean play count of 1519.\n"
     ]
    }
   ],
   "source": [
    "# Split a sequence into seperate entities and store as int\n",
    "def splitUserArtist(line):\n",
    "    split = line.split(\" \")\n",
    "    userid = int(split[0])\n",
    "    artistid = int(split[1])\n",
    "    playcount = int(split[2])\n",
    "    return(userid, artistid, playcount)\n",
    "user_artist = user_artist_data.map(splitUserArtist)\n",
    "# print(user_artist.collect())\n",
    "\n",
    "def splitArtistAlias(line):\n",
    "    split = line.split()\n",
    "    badid = int(split[0])\n",
    "    goodid = int(split[1])\n",
    "    return(badid, goodid)\n",
    "artist_alias = artist_alias_data.map(splitArtistAlias)\n",
    "# print(artist_alias.collect())\n",
    "\n",
    "def splitArtistData(line):\n",
    "    split = line.split(None, 1)\n",
    "    artistid = int(split[0])\n",
    "    artistname = split[1]\n",
    "    return(artistid, artistname)\n",
    "artistname_data = artist_data.map(splitArtistData)\n",
    "# print(artistname_data.collect())\n",
    "\n",
    "# Create a dictionary of the 'artistAlias' dataset\n",
    "artistAliasDict = artist_alias.collectAsMap()\n",
    "# print(artistAliasDict)\n",
    "\n",
    "# If artistid exists, replace with artistsid from artistAlias, else retain original\n",
    "def replaceBadArtistIdWithGood(line):\n",
    "    if line[1] in artistAliasDict.keys():\n",
    "        return(line[0], artistAliasDict[line[1]], line[2])\n",
    "    else:\n",
    "        return line\n",
    "user_artist = user_artist.map(replaceBadArtistIdWithGood)\n",
    "# print(user_artist.collect())\n",
    "\n",
    "# Create an RDD consisting of 'userid' and 'playcount' objects of original tuple    \n",
    "user_playcount = user_artist.map(lambda x: (x[0], x[2]))\n",
    "user_playcount_sum = user_playcount.reduceByKey(lambda x, y: x + y)\n",
    "user_playcount_sum_sorted = user_playcount_sum.sortBy(lambda val: val[1], ascending = False)\n",
    "# print(user_playcount_sum_sorted.collect())\n",
    "\n",
    "# Count instances by key and store in broadcast variable\n",
    "user_playcount_sum_broad = sc.broadcast(user_playcount_sum_sorted.collect())\n",
    "# print(user_playcount_sum_broad.value)\n",
    "\n",
    "# Compute and display users with the highest playcount along with their mean playcount across artists\n",
    "def findmeans(line):\n",
    "    artist_count = user_artistcount_sum_dict[line[0]]\n",
    "    return(line[0], line[1], line[1]//artist_count)\n",
    "\n",
    "## Creating an RDD of userid and artist count to find the mean playcount across artists\n",
    "user_artistcount = user_artist.map(lambda x: (x[0], 1))\n",
    "user_artistcount_sum = user_artistcount.reduceByKey(lambda x, y: x + y)\n",
    "user_artistcount_sum_dict = user_artistcount_sum.collectAsMap()\n",
    "# print(user_artistcount_sum_dict)\n",
    "\n",
    "l = user_playcount_sum_sorted.map(findmeans).sortBy(lambda x: x[1], ascending = False).take(3)\n",
    "for val in l:\n",
    "    print('User {0} has a total play count of {1} and a mean play count of {2}.'.format(val[0],val[1],val[2]))"
   ]
  },
  {
   "cell_type": "markdown",
   "metadata": {
    "collapsed": true
   },
   "source": [
    "####  Splitting Data for Testing\n",
    "\n",
    "Use the [randomSplit](http://spark.apache.org/docs/latest/api/python/pyspark.html#pyspark.RDD.randomSplit) function to divide the data (`userArtistData`) into:\n",
    "* A training set, `trainData`, that will be used to train the model. This set should constitute 40% of the data.\n",
    "* A validation set, `validationData`, used to perform parameter tuning. This set should constitute 40% of the data.\n",
    "* A test set, `testData`, used for a final evaluation of the model. This set should constitute 20% of the data.\n",
    "\n",
    "Use a random seed value of 13. Since these datasets will be repeatedly used you will probably want to persist them in memory using the [cache](http://spark.apache.org/docs/latest/api/python/pyspark.html#pyspark.RDD.cache) function.\n",
    "\n",
    "In addition, print out the first 3 elements of each set as well as their sizes; if you created these sets correctly, your output should look like the following:\n",
    "```\n",
    "[(1059637, 1000049, 1), (1059637, 1000056, 1), (1059637, 1000114, 2)]\n",
    "[(1059637, 1000010, 238), (1059637, 1000062, 11), (1059637, 1000123, 2)]\n",
    "[(1059637, 1000094, 1), (1059637, 1000112, 423), (1059637, 1000113, 5)]\n",
    "19761\n",
    "19862\n",
    "9858\n",
    "```"
   ]
  },
  {
   "cell_type": "code",
   "execution_count": 6,
   "metadata": {},
   "outputs": [
    {
     "name": "stdout",
     "output_type": "stream",
     "text": [
      "[(1059637, 1000049, 1), (1059637, 1000056, 1), (1059637, 1000114, 2)]\n",
      "[(1059637, 1000010, 238), (1059637, 1000062, 11), (1059637, 1000123, 2)]\n",
      "[(1059637, 1000094, 1), (1059637, 1000112, 423), (1059637, 1000113, 5)]\n",
      "19761\n",
      "19862\n",
      "9858\n"
     ]
    }
   ],
   "source": [
    "# Split the 'userArtistData' dataset into training, validation and test datasets. Store in cache for frequent access\n",
    "userArtist_training, userArtist_validation, userArtist_test = user_artist.randomSplit(weights=[0.4, 0.4, 0.2], seed=13)\n",
    "userArtist_training.cache()\n",
    "userArtist_validation.cache()\n",
    "userArtist_test.cache()\n",
    "# Display the first 3 records of each dataset followed by the total count of records for each datasets\n",
    "print(userArtist_training.take(3))\n",
    "print(userArtist_validation.take(3))\n",
    "print(userArtist_test.take(3))\n",
    "print(userArtist_training.count())\n",
    "print(userArtist_validation.count())\n",
    "print(userArtist_test.count())"
   ]
  },
  {
   "cell_type": "markdown",
   "metadata": {},
   "source": [
    "## The Recommender Model\n",
    "\n",
    "For this project, we will train the model with implicit feedback. You can read more information about this from the collaborative filtering page: [http://spark.apache.org/docs/latest/mllib-collaborative-filtering.html](http://spark.apache.org/docs/latest/mllib-collaborative-filtering.html). The [function you will be using](http://spark.apache.org/docs/latest/api/python/pyspark.mllib.html#pyspark.mllib.recommendation.ALS.trainImplicit) has a few tunable parameters that will affect how the model is built. Therefore, to get the best model, we will do a small parameter sweep and choose the model that performs the best on the validation set\n",
    "\n",
    "Therefore, we must first devise a way to evaluate models. Once we have a method for evaluation, we can run a parameter sweep, evaluate each combination of parameters on the validation data, and choose the optimal set of parameters. The parameters then can be used to make predictions on the test data.\n",
    "\n",
    "### Model Evaluation\n",
    "\n",
    "Although there may be several ways to evaluate a model, we will use a simple method here. Suppose we have a model and some dataset of *true* artist plays for a set of users. This model can be used to predict the top X artist recommendations for a user and these recommendations can be compared the artists that the user actually listened to (here, X will be the number of artists in the dataset of *true* artist plays). Then, the fraction of overlap between the top X predictions of the model and the X artists that the user actually listened to can be calculated. This process can be repeated for all users and an average value returned.\n",
    "\n",
    "For example, suppose a model predicted [1,2,4,8] as the top X=4 artists for a user. Suppose, that user actually listened to the artists [1,3,7,8]. Then, for this user, the model would have a score of 2/4=0.5. To get the overall score, this would be performed for all users, with the average returned.\n",
    "\n",
    "**NOTE: when using the model to predict the top-X artists for a user, do not include the artists listed with that user in the training data.**\n",
    "\n",
    "Name your function `modelEval` and have it take a model (the output of ALS.trainImplicit) and a dataset as input. For parameter tuning, the dataset parameter should be set to the validation data (`validationData`). After parameter tuning, the model can be evaluated on the test data (`testData`)."
   ]
  },
  {
   "cell_type": "code",
   "execution_count": 11,
   "metadata": {
    "collapsed": true
   },
   "outputs": [],
   "source": [
    "def modelEval(model, dataset):\n",
    "    # All artists in the 'userArtistData' dataset\n",
    "    artist_data = user_artist.map(lambda x: (x[1])).collect()\n",
    "    artist_data_set = set(artist_data)\n",
    "    artist_data = list(artist_data_set)\n",
    "#     print(\"Artist Data\")\n",
    "#     print(artist_data)\n",
    "    \n",
    "    # Set of all users in the current (Validation/Testing) dataset\n",
    "    user_dataset = dataset.map(lambda x: x[0]).collect()\n",
    "    user_dataset_set = set(user_dataset)\n",
    "    user_dataset = list(user_dataset_set)\n",
    "#     print(\"User data\")\n",
    "#     print(user_dataset)\n",
    "\n",
    "    # Create a dictionary of (key, values) for current (Validation/Testing) dataset\n",
    "    usersartist_rdd = dataset.map(lambda x: (x[0],x[1])).groupByKey().map(lambda x: (x[0], list(x[1])))\n",
    "    # print(usersartist_rdd.collect())\n",
    "    userdict = usersartist_rdd.collectAsMap()\n",
    "    # print(userdict)     \n",
    "    \n",
    "    # Create a dictionary of (key, values) for training dataset\n",
    "    user_training_rdd = userArtist_training.map(lambda x: (x[0],x[1])).groupByKey().map(lambda x: (x[0], list(x[1])))\n",
    "    # print(user_training_rdd.collect())\n",
    "    userdict_training = user_training_rdd.collectAsMap()\n",
    "    # print(userdict_training)  \n",
    "    \n",
    "    # For each user, calculate the prediction score i.e. similarity between predicted and actual artists\n",
    "    score = 0.0\n",
    "    for user in user_dataset:\n",
    "        ## First remove the artists in the training set for each user\n",
    "        artists_without_training = [artist for artist in artist_data if artist not in userdict_training[user]]\n",
    "#         print(artists_without_training)\n",
    "        predictions = model.predictAll(sc.parallelize(artists_without_training).map(lambda y: (user, y)))\n",
    "        l = predictions.sortBy(lambda x: x[2], ascending = False).map(lambda x: x[1]).take(len(userdict[user]))\n",
    "#         print(predictions)\n",
    "        score = score + (len([value for value in userdict[user] if value in l])/len(userdict[user]))\n",
    "    avg_score = score/len(user_dataset)\n",
    "        \n",
    "    # Print average score of the model for all users for the specified rank\n",
    "    print(\"The model score for rank {0} is ~{1}\".format(model.rank, avg_score))"
   ]
  },
  {
   "cell_type": "markdown",
   "metadata": {},
   "source": [
    "### Model Construction\n",
    "\n",
    "Now we can build the best model possibly using the validation set of data and the `modelEval` function. Although, there are a few parameters we could optimize, for the sake of time, we will just try a few different values for the [rank parameter](http://spark.apache.org/docs/latest/mllib-collaborative-filtering.html#collaborative-filtering) (leave everything else at its default value, **except make `seed`=345**). Loop through the values [2, 10, 20] and figure out which one produces the highest scored based on your model evaluation function.\n",
    "\n",
    "Note: this procedure may take several minutes to run.\n",
    "\n",
    "For each rank value, print out the output of the `modelEval` function for that model. Your output should look as follows:\n",
    "```\n",
    "The model score for rank 2 is ~0.090431\n",
    "The model score for rank 10 is ~0.095294\n",
    "The model score for rank 20 is ~0.090248\n",
    "```\n",
    "Step below takes 2 minutes to run. Uncomment to if you wish to run and calculate model score. "
   ]
  },
  {
   "cell_type": "code",
   "execution_count": 12,
   "metadata": {
    "scrolled": true
   },
   "outputs": [
    {
     "name": "stdout",
     "output_type": "stream",
     "text": [
      "The model score for rank 2 is ~0.08126395111282488\n",
      "The model score for rank 10 is ~0.09132001756831555\n",
      "The model score for rank 20 is ~0.08244027286872078\n"
     ]
    }
   ],
   "source": [
    "rankList = [2,10,20]\n",
    "for rank in rankList:\n",
    "    model = ALS.trainImplicit(userArtist_training, rank , seed=345)\n",
    "    model_score = modelEval(model,userArtist_validation)"
   ]
  },
  {
   "cell_type": "markdown",
   "metadata": {},
   "source": [
    "Now, using the bestModel, we will check the results over the test data. Your result should be ~`0.0507`.  \n",
    "Step below takes 1 minute to run. Uncomment last line if you wish to run and calculate model score. "
   ]
  },
  {
   "cell_type": "code",
   "execution_count": 13,
   "metadata": {},
   "outputs": [
    {
     "name": "stdout",
     "output_type": "stream",
     "text": [
      "The model score for rank 10 is ~0.0607513280717146\n"
     ]
    }
   ],
   "source": [
    "bestModel = ALS.trainImplicit(userArtist_training, rank=10, seed=345)\n",
    "modelEval(bestModel, userArtist_test)"
   ]
  },
  {
   "cell_type": "markdown",
   "metadata": {},
   "source": [
    "## Trying Some Artist Recommendations\n",
    "Using the best model above, predict the top 5 artists for user `1059637` using the [recommendProducts](http://spark.apache.org/docs/1.5.2/api/python/pyspark.mllib.html#pyspark.mllib.recommendation.MatrixFactorizationModel.recommendProducts) function. Map the results (integer IDs) into the real artist name using `artistAlias`. Print the results. The output should look as follows:\n",
    "```\n",
    "Artist 0: My Chemical Romance\n",
    "Artist 1: Something Corporate\n",
    "Artist 2: Evanescence\n",
    "Artist 3: Alanis Morissette\n",
    "Artist 4: Counting Crows\n",
    "```"
   ]
  },
  {
   "cell_type": "code",
   "execution_count": 14,
   "metadata": {},
   "outputs": [
    {
     "name": "stdout",
     "output_type": "stream",
     "text": [
      "Artist 0: My Chemical Romance\n",
      "Artist 1: Something Corporate\n",
      "Artist 2: Evanescence\n",
      "Artist 3: Alanis Morissette\n",
      "Artist 4: Counting Crows\n"
     ]
    }
   ],
   "source": [
    "# Find the top 5 artists for a particular user and list their names\n",
    "artistNameDict = artistname_data.collectAsMap()\n",
    "result = bestModel.recommendProducts(1059637, 5)\n",
    "j = 0\n",
    "for val in result:\n",
    "    if val[1] in artistNameDict.keys():\n",
    "        print(\"Artist {0}:\".format(j), artistNameDict[val[1]])\n",
    "        j = j + 1    "
   ]
  }
 ],
 "metadata": {
  "kernelspec": {
   "display_name": "Python 3",
   "language": "python",
   "name": "python3"
  },
  "language_info": {
   "codemirror_mode": {
    "name": "ipython",
    "version": 3
   },
   "file_extension": ".py",
   "mimetype": "text/x-python",
   "name": "python",
   "nbconvert_exporter": "python",
   "pygments_lexer": "ipython3",
   "version": "3.5.2"
  }
 },
 "nbformat": 4,
 "nbformat_minor": 2
}
